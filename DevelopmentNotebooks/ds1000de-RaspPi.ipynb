{
 "cells": [
  {
   "cell_type": "code",
   "execution_count": 1,
   "metadata": {
    "collapsed": true
   },
   "outputs": [],
   "source": [
    "import visa"
   ]
  },
  {
   "cell_type": "code",
   "execution_count": 2,
   "metadata": {},
   "outputs": [
    {
     "data": {
      "text/plain": [
       "('ASRL/dev/ttyUSB2::INSTR',\n",
       " 'ASRL/dev/ttyUSB3::INSTR',\n",
       " 'ASRL/dev/ttyUSB-ZStick-2G::INSTR',\n",
       " 'ASRL/dev/ttyUSB1::INSTR',\n",
       " 'ASRL/dev/ttyUSB0::INSTR',\n",
       " 'ASRL/dev/ttyACM1::INSTR',\n",
       " 'ASRL/dev/ttyACM0::INSTR',\n",
       " 'ASRL/dev/ttyAMA0::INSTR',\n",
       " 'USB0::6833::1416::DS1EU152500705\\x00::0::INSTR')"
      ]
     },
     "execution_count": 2,
     "metadata": {},
     "output_type": "execute_result"
    }
   ],
   "source": [
    "rm = visa.ResourceManager('@py')\n",
    "resources = rm.list_resources()\n",
    "resources"
   ]
  },
  {
   "cell_type": "code",
   "execution_count": 4,
   "metadata": {},
   "outputs": [],
   "source": [
    "from ds1000de import DS1000DE\n",
    "scope=DS1000DE(\"DS1EU152500705\")\n",
    "\n",
    "r = scope.inst.query\n",
    "w = scope.inst.write"
   ]
  },
  {
   "cell_type": "code",
   "execution_count": 8,
   "metadata": {},
   "outputs": [
    {
     "ename": "ImportError",
     "evalue": "No module named 'mhs5200'",
     "output_type": "error",
     "traceback": [
      "\u001b[0;31m---------------------------------------------------------------------------\u001b[0m",
      "\u001b[0;31mImportError\u001b[0m                               Traceback (most recent call last)",
      "\u001b[0;32m<ipython-input-8-ecb17df35066>\u001b[0m in \u001b[0;36m<module>\u001b[0;34m()\u001b[0m\n\u001b[0;32m----> 1\u001b[0;31m \u001b[0;32mfrom\u001b[0m \u001b[0mmhs5200\u001b[0m \u001b[0;32mimport\u001b[0m \u001b[0mMHS5200\u001b[0m\u001b[0;34m\u001b[0m\u001b[0m\n\u001b[0m",
      "\u001b[0;31mImportError\u001b[0m: No module named 'mhs5200'"
     ]
    }
   ],
   "source": [
    "from mhs5200 import MHS5200"
   ]
  },
  {
   "cell_type": "code",
   "execution_count": 9,
   "metadata": {},
   "outputs": [
    {
     "ename": "NameError",
     "evalue": "name 'MHS5200' is not defined",
     "output_type": "error",
     "traceback": [
      "\u001b[0;31m---------------------------------------------------------------------------\u001b[0m",
      "\u001b[0;31mNameError\u001b[0m                                 Traceback (most recent call last)",
      "\u001b[0;32m<ipython-input-9-0385e8540e14>\u001b[0m in \u001b[0;36m<module>\u001b[0;34m()\u001b[0m\n\u001b[1;32m      1\u001b[0m \u001b[0mport\u001b[0m \u001b[0;34m=\u001b[0m \u001b[0;34m\"/dev/ttyUSB0\"\u001b[0m \u001b[0;31m# Serial port.\u001b[0m\u001b[0;34m\u001b[0m\u001b[0m\n\u001b[0;32m----> 2\u001b[0;31m \u001b[0msignal_gen\u001b[0m \u001b[0;34m=\u001b[0m \u001b[0mMHS5200\u001b[0m\u001b[0;34m(\u001b[0m\u001b[0mport\u001b[0m\u001b[0;34m=\u001b[0m\u001b[0mport\u001b[0m\u001b[0;34m)\u001b[0m\u001b[0;34m\u001b[0m\u001b[0m\n\u001b[0m",
      "\u001b[0;31mNameError\u001b[0m: name 'MHS5200' is not defined"
     ]
    }
   ],
   "source": [
    "port = \"/dev/ttyUSB0\" # Serial port.\n",
    "signal_gen = MHS5200(port=port)\n"
   ]
  },
  {
   "cell_type": "code",
   "execution_count": null,
   "metadata": {
    "collapsed": true
   },
   "outputs": [],
   "source": [
    "grid_t = 12\n",
    "grid_v = 8\n",
    "cycles = 10"
   ]
  },
  {
   "cell_type": "code",
   "execution_count": null,
   "metadata": {
    "collapsed": true
   },
   "outputs": [],
   "source": [
    "period = 1/chan1.frequency # Seconds\n",
    "scale_val = period*cycles/grid_t"
   ]
  },
  {
   "cell_type": "code",
   "execution_count": null,
   "metadata": {
    "collapsed": true
   },
   "outputs": [],
   "source": [
    "w(\":TIMEBASE:SCALE {}\".format(scale_val))"
   ]
  },
  {
   "cell_type": "code",
   "execution_count": null,
   "metadata": {
    "collapsed": true
   },
   "outputs": [],
   "source": [
    "scale_pct = 0.8\n",
    "scale = chan1.amplitude/scale_pct/grid_v\n",
    "w(\":CHAN1:SCALE {}\".format(scale))"
   ]
  },
  {
   "cell_type": "code",
   "execution_count": null,
   "metadata": {
    "collapsed": true
   },
   "outputs": [],
   "source": [
    "w(\":CHAN1:OFFSET 0\")"
   ]
  },
  {
   "cell_type": "code",
   "execution_count": null,
   "metadata": {
    "collapsed": true
   },
   "outputs": [],
   "source": [
    "class Measure(object):\n",
    "    def __init__(self, scope):\n",
    "        self.scope = scope\n",
    "        \n",
    "    @property\n",
    "    def inst(self):\n",
    "        return self.scope.inst\n",
    "    \n",
    "    @property\n",
    "    def _kw_(self):\n",
    "        return self.__class__.__name__.upper()\n",
    "    \n",
    "    \n",
    "    def _write_(self, cmd, arg=None):\n",
    "        if arg is None:\n",
    "            self.inst.write(\":{}:{}\".format(self._kw_, cmd))\n",
    "        else:\n",
    "            self.inst.write(\":{}:{} {}\".format(self._kw_, cmd, arg))\n",
    "    \n",
    "    def _query_(self, cmd):\n",
    "        return self.inst.query(\":{}:{}?\".format(self._kw_, cmd))\n",
    "    \n",
    "    def clear(self):\n",
    "        self._write_(\"clear\")"
   ]
  },
  {
   "cell_type": "code",
   "execution_count": null,
   "metadata": {
    "collapsed": true
   },
   "outputs": [],
   "source": [
    "measurements = [\n",
    "    'vpp',\n",
    "    'vmax',\n",
    "    'vmin',\n",
    "    'vamplitude',\n",
    "    'vtop',\n",
    "    'vbase',\n",
    "    'vaverage',\n",
    "    'vrms',\n",
    "    'overshoot',\n",
    "    'preshoot',\n",
    "    'frequency',\n",
    "    'risetime',\n",
    "    'falltime',\n",
    "    'period',\n",
    "    'pwidth',\n",
    "    'nwidth',\n",
    "    'pdutycycle',\n",
    "    'ndutycycle',\n",
    "    'pdelay',\n",
    "    'ndelay',\n",
    "]"
   ]
  },
  {
   "cell_type": "code",
   "execution_count": null,
   "metadata": {
    "collapsed": true
   },
   "outputs": [],
   "source": [
    "def measurement_factory(measurement):\n",
    "    def measure(self):\n",
    "        value_raw = self._query_(measurement)\n",
    "        return float(value_raw)\n",
    "    return measure"
   ]
  },
  {
   "cell_type": "code",
   "execution_count": null,
   "metadata": {
    "collapsed": true
   },
   "outputs": [],
   "source": [
    "for measurement in measurements:\n",
    "    fcn = measurement_factory(measurement)\n",
    "    prop = property(fcn)\n",
    "    setattr(Measure, measurement, prop)"
   ]
  },
  {
   "cell_type": "code",
   "execution_count": null,
   "metadata": {
    "collapsed": true
   },
   "outputs": [],
   "source": [
    "m = Measure(scope)"
   ]
  },
  {
   "cell_type": "code",
   "execution_count": null,
   "metadata": {
    "collapsed": true
   },
   "outputs": [],
   "source": [
    "m.vmax"
   ]
  },
  {
   "cell_type": "code",
   "execution_count": null,
   "metadata": {
    "collapsed": true
   },
   "outputs": [],
   "source": [
    "m.frequency"
   ]
  },
  {
   "cell_type": "code",
   "execution_count": null,
   "metadata": {
    "collapsed": true
   },
   "outputs": [],
   "source": [
    "m.ndutycycle"
   ]
  },
  {
   "cell_type": "code",
   "execution_count": null,
   "metadata": {
    "collapsed": true
   },
   "outputs": [],
   "source": [
    "m.period"
   ]
  },
  {
   "cell_type": "code",
   "execution_count": null,
   "metadata": {
    "collapsed": true
   },
   "outputs": [],
   "source": [
    "chan1.amplitude=10"
   ]
  },
  {
   "cell_type": "code",
   "execution_count": null,
   "metadata": {
    "collapsed": true
   },
   "outputs": [],
   "source": [
    "m.vpp"
   ]
  },
  {
   "cell_type": "code",
   "execution_count": null,
   "metadata": {
    "collapsed": true
   },
   "outputs": [],
   "source": [
    "m.vamplitude"
   ]
  },
  {
   "cell_type": "code",
   "execution_count": null,
   "metadata": {
    "collapsed": true
   },
   "outputs": [],
   "source": [
    "def Q(*args):\n",
    "    return r(\":{}?\".format(\":\".join(args)))\n",
    "def W(*args):\n",
    "    kw = \":\".join(args[:-1])\n",
    "    val = args[-1]\n",
    "    return w(\":{} {}\".format(kw, val))"
   ]
  },
  {
   "cell_type": "code",
   "execution_count": null,
   "metadata": {
    "collapsed": true
   },
   "outputs": [],
   "source": [
    "Q(\"TRIGGER:MODE\")"
   ]
  },
  {
   "cell_type": "code",
   "execution_count": null,
   "metadata": {
    "collapsed": true
   },
   "outputs": [],
   "source": [
    "Q(\"TRIGGER:EDGE:LEVEL\")"
   ]
  },
  {
   "cell_type": "code",
   "execution_count": null,
   "metadata": {
    "collapsed": true
   },
   "outputs": [],
   "source": [
    "Q(\"TRIGGER:STATUS\")"
   ]
  },
  {
   "cell_type": "code",
   "execution_count": null,
   "metadata": {
    "collapsed": true
   },
   "outputs": [],
   "source": [
    "Q(\"TRIGGER:EDGE:SWEEP\")"
   ]
  },
  {
   "cell_type": "code",
   "execution_count": null,
   "metadata": {
    "collapsed": true
   },
   "outputs": [],
   "source": [
    "W(\"TRIGGER:EDGE:SWEEP\", \"SINGLE\")"
   ]
  },
  {
   "cell_type": "code",
   "execution_count": null,
   "metadata": {
    "collapsed": true
   },
   "outputs": [],
   "source": [
    "m.vamplitude"
   ]
  },
  {
   "cell_type": "code",
   "execution_count": null,
   "metadata": {
    "collapsed": true
   },
   "outputs": [],
   "source": [
    "m.frequency"
   ]
  },
  {
   "cell_type": "code",
   "execution_count": null,
   "metadata": {
    "collapsed": true
   },
   "outputs": [],
   "source": [
    "m.period"
   ]
  }
 ],
 "metadata": {
  "kernelspec": {
   "display_name": "Python 3",
   "language": "python",
   "name": "python3"
  },
  "language_info": {
   "codemirror_mode": {
    "name": "ipython",
    "version": 3
   },
   "file_extension": ".py",
   "mimetype": "text/x-python",
   "name": "python",
   "nbconvert_exporter": "python",
   "pygments_lexer": "ipython3",
   "version": "3.4.2"
  }
 },
 "nbformat": 4,
 "nbformat_minor": 2
}
