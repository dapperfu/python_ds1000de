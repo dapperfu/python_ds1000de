{
 "cells": [
  {
   "cell_type": "code",
   "execution_count": 2,
   "metadata": {
    "collapsed": true
   },
   "outputs": [],
   "source": [
    "from ds1000de import DS1000DE"
   ]
  },
  {
   "cell_type": "code",
   "execution_count": 3,
   "metadata": {
    "collapsed": true
   },
   "outputs": [],
   "source": [
    "scope = DS1000DE(\"USB0\")"
   ]
  },
  {
   "cell_type": "markdown",
   "metadata": {},
   "source": [
    "Page 16 (2-4)"
   ]
  },
  {
   "cell_type": "code",
   "execution_count": 4,
   "metadata": {},
   "outputs": [],
   "source": [
    "def run(self):\n",
    "    self.inst.write(\":RUN\")\n",
    "run(scope)"
   ]
  },
  {
   "cell_type": "code",
   "execution_count": 5,
   "metadata": {},
   "outputs": [],
   "source": [
    "def stop(self):\n",
    "    self.inst.write(\":STOP\")\n",
    "stop(scope)"
   ]
  },
  {
   "cell_type": "markdown",
   "metadata": {},
   "source": [
    "SYSTem Commands are the fundamental commands for the operation of an oscilloscope. They can either be used for operational control or screen data interception and more.\n",
    "\n",
    "SYSTem Commands include:\n",
    "\n",
    "- :RUN\n",
    "- :STOP\n",
    "- :AUTO\n",
    "- :HARDcopy"
   ]
  },
  {
   "cell_type": "code",
   "execution_count": 6,
   "metadata": {
    "collapsed": true
   },
   "outputs": [],
   "source": [
    "system_commands = [\"run\", \"stop\", \"auto\", \"hardcopy\"]"
   ]
  },
  {
   "cell_type": "code",
   "execution_count": 18,
   "metadata": {
    "collapsed": true
   },
   "outputs": [],
   "source": [
    "def sys_cmd_gen(command):\n",
    "    def sys_cmd(self):\n",
    "        self.inst.write(\":{}\".format(command))\n",
    "    return sys_cmd"
   ]
  },
  {
   "cell_type": "code",
   "execution_count": 19,
   "metadata": {
    "collapsed": true
   },
   "outputs": [],
   "source": [
    "import types"
   ]
  },
  {
   "cell_type": "code",
   "execution_count": 20,
   "metadata": {},
   "outputs": [],
   "source": [
    "for cmd in system_commands:\n",
    "    fcn = sys_cmd_gen(cmd)\n",
    "    setattr(scope, cmd, types.MethodType(fcn, scope))"
   ]
  },
  {
   "cell_type": "code",
   "execution_count": 21,
   "metadata": {
    "collapsed": true
   },
   "outputs": [],
   "source": [
    "scope.stop()"
   ]
  },
  {
   "cell_type": "code",
   "execution_count": 22,
   "metadata": {
    "collapsed": true
   },
   "outputs": [],
   "source": [
    "scope.run()"
   ]
  },
  {
   "cell_type": "code",
   "execution_count": 23,
   "metadata": {
    "collapsed": true
   },
   "outputs": [],
   "source": [
    "scope.auto()"
   ]
  },
  {
   "cell_type": "code",
   "execution_count": 24,
   "metadata": {
    "collapsed": true
   },
   "outputs": [],
   "source": [
    "scope.hardcopy()"
   ]
  },
  {
   "cell_type": "code",
   "execution_count": 16,
   "metadata": {
    "collapsed": true
   },
   "outputs": [],
   "source": [
    "self = scope # So tab completion works"
   ]
  },
  {
   "cell_type": "code",
   "execution_count": 17,
   "metadata": {},
   "outputs": [
    {
     "data": {
      "text/plain": [
       "'NORMAL'"
      ]
     },
     "execution_count": 17,
     "metadata": {},
     "output_type": "execute_result"
    }
   ],
   "source": [
    "scope.inst.query(\":Acquire:Type?\")"
   ]
  },
  {
   "cell_type": "code",
   "execution_count": null,
   "metadata": {
    "collapsed": true
   },
   "outputs": [],
   "source": []
  },
  {
   "cell_type": "code",
   "execution_count": null,
   "metadata": {
    "collapsed": true
   },
   "outputs": [],
   "source": [
    "scope.inst.qu"
   ]
  },
  {
   "cell_type": "code",
   "execution_count": 73,
   "metadata": {},
   "outputs": [],
   "source": [
    "class CmdBase(object):\n",
    "    def __init__(self, inst):\n",
    "        self.inst = inst\n",
    "        \n",
    "def getter_gen(cmd, get_type=None):\n",
    "    def getter(self):\n",
    "        inst = self.inst\n",
    "        cls = self.__class__.__name__\n",
    "        query_str = \":{}:{}?\".format(cls, cmd)\n",
    "        if get_type is None:\n",
    "            fcn = inst.query\n",
    "        elif get_type == \"ascii\":\n",
    "            fcn = inst.query_ascii_values\n",
    "        elif get_type == \"binary\":\n",
    "            fcn = inst.query_binary_values\n",
    "        else:\n",
    "            raise Exception(get_type)\n",
    "        return fcn(query_str)\n",
    "    return getter"
   ]
  },
  {
   "cell_type": "code",
   "execution_count": 74,
   "metadata": {
    "collapsed": true
   },
   "outputs": [],
   "source": [
    "commands = dict()\n",
    "commands[\"Acquire\"] = [\"type\", \"mode\", \"averages\", \"samplingrate\", \"memdepth\"]"
   ]
  },
  {
   "cell_type": "code",
   "execution_count": 75,
   "metadata": {
    "collapsed": true
   },
   "outputs": [],
   "source": [
    "for command, sub_commands in commands.items():\n",
    "    cmd_cls = type(command, (CmdBase,), dict())\n",
    "    for sub_command in sub_commands:\n",
    "        setattr(cmd_cls, sub_command, property(getter_gen(sub_command)))"
   ]
  },
  {
   "cell_type": "code",
   "execution_count": 76,
   "metadata": {},
   "outputs": [],
   "source": [
    "acquire = cmd_cls(scope.inst)"
   ]
  },
  {
   "cell_type": "code",
   "execution_count": 77,
   "metadata": {},
   "outputs": [
    {
     "data": {
      "text/plain": [
       "'Acquire'"
      ]
     },
     "execution_count": 77,
     "metadata": {},
     "output_type": "execute_result"
    }
   ],
   "source": [
    "acquire.__class__.__name__"
   ]
  },
  {
   "cell_type": "code",
   "execution_count": 78,
   "metadata": {},
   "outputs": [
    {
     "data": {
      "text/plain": [
       "'256'"
      ]
     },
     "execution_count": 78,
     "metadata": {},
     "output_type": "execute_result"
    }
   ],
   "source": [
    "acquire.averages"
   ]
  },
  {
   "cell_type": "code",
   "execution_count": 79,
   "metadata": {},
   "outputs": [
    {
     "data": {
      "text/plain": [
       "'NORMAL'"
      ]
     },
     "execution_count": 79,
     "metadata": {},
     "output_type": "execute_result"
    }
   ],
   "source": [
    "acquire.type"
   ]
  },
  {
   "cell_type": "code",
   "execution_count": 31,
   "metadata": {
    "collapsed": true
   },
   "outputs": [],
   "source": [
    "class Acquire(object):\n",
    "    def __init__(self, inst):\n",
    "        self.inst = inst\n",
    "        \n",
    "    @property\n",
    "    def _cls_(self):\n",
    "        return self.__class__.__name__\n",
    "    \n",
    "    def query_gen(self, cmd):\n",
    "        query_str = \":{}:{}?\".format(self._cls_, cmd)\n",
    "        print(query_str)\n",
    "        return query_strd\n",
    "\n",
    "    @property\n",
    "    def type(self):\n",
    "        return self.inst.query(self.query_gen(\"type\"))"
   ]
  }
 ],
 "metadata": {
  "kernelspec": {
   "display_name": "Python 3",
   "language": "python",
   "name": "python3"
  },
  "language_info": {
   "codemirror_mode": {
    "name": "ipython",
    "version": 3
   },
   "file_extension": ".py",
   "mimetype": "text/x-python",
   "name": "python",
   "nbconvert_exporter": "python",
   "pygments_lexer": "ipython3",
   "version": "3.5.3"
  }
 },
 "nbformat": 4,
 "nbformat_minor": 2
}
