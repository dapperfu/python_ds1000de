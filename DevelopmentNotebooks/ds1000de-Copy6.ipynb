{
 "cells": [
  {
   "cell_type": "code",
   "execution_count": 34,
   "metadata": {
    "collapsed": true
   },
   "outputs": [],
   "source": [
    "with open(\"../Reference/CommandSystems.txt\", \"r\") as fid:\n",
    "     quick_ref = fid.read()\n",
    "import re\n",
    "cmd_re = re.compile(\"Command Format:\\n(.*?)\\nFunction Explanation:\", flags=re.MULTILINE | re.DOTALL)\n",
    "commands = cmd_re.findall(quick_ref)\n",
    "commands = [command.lower() for command in commands]"
   ]
  },
  {
   "cell_type": "code",
   "execution_count": 35,
   "metadata": {
    "collapsed": true
   },
   "outputs": [],
   "source": [
    "actions = list()\n",
    "ro_cmds = list()\n",
    "rw_cmds = list()\n",
    "\n",
    "for command in commands:\n",
    "    cmd_opts = command.lower().split(\"\\n\")\n",
    "    if len(cmd_opts) == 1:\n",
    "        if \"?\" in command:\n",
    "            ro_cmds.append(command)\n",
    "        else:\n",
    "            actions.append(command)\n",
    "    elif len(cmd_opts) == 2:\n",
    "        rw_cmds.append(command)\n",
    "    else:\n",
    "        print(command)"
   ]
  },
  {
   "cell_type": "code",
   "execution_count": 36,
   "metadata": {
    "collapsed": true
   },
   "outputs": [],
   "source": [
    "foo = dict()"
   ]
  },
  {
   "cell_type": "code",
   "execution_count": 37,
   "metadata": {},
   "outputs": [
    {
     "name": "stdout",
     "output_type": "stream",
     "text": [
      "4\n"
     ]
    }
   ],
   "source": [
    "for action in actions:\n",
    "    kw = action.split(\":\")\n",
    "    if len(kw)>3:\n",
    "        print(len(kw))\n",
    "        break"
   ]
  },
  {
   "cell_type": "code",
   "execution_count": 41,
   "metadata": {
    "collapsed": true
   },
   "outputs": [],
   "source": [
    "for arg in kw[:-1]:\n",
    "    if len(arg)==0:\n",
    "        continue\n",
    "    break"
   ]
  },
  {
   "cell_type": "code",
   "execution_count": 44,
   "metadata": {},
   "outputs": [
    {
     "data": {
      "text/plain": [
       "['', 'storage', 'factory']"
      ]
     },
     "execution_count": 44,
     "metadata": {},
     "output_type": "execute_result"
    }
   ],
   "source": [
    "arg"
   ]
  },
  {
   "cell_type": "code",
   "execution_count": null,
   "metadata": {
    "collapsed": true
   },
   "outputs": [],
   "source": [
    "for cmd in [actions, ro_cmds]"
   ]
  },
  {
   "cell_type": "code",
   "execution_count": null,
   "metadata": {
    "collapsed": true
   },
   "outputs": [],
   "source": [
    "for "
   ]
  },
  {
   "cell_type": "code",
   "execution_count": 84,
   "metadata": {
    "collapsed": true
   },
   "outputs": [],
   "source": [
    "def action_factory(cmd):\n",
    "    def action(self, *args):\n",
    "        print(cmd)\n",
    "        self.inst.write(cmd.upper())\n",
    "    keywords = cmd.split(\":\")\n",
    "    if len(keywords) == 1:\n",
    "        attr = keywords[0].lower().strip(\"*\").replace(\"%\", \"\")\n",
    "    elif len(keywords) == 2:\n",
    "        attr = keywords[1].lower().strip(\"*\").replace(\"%\", \"\")\n",
    "    return attr, action"
   ]
  },
  {
   "cell_type": "code",
   "execution_count": null,
   "metadata": {
    "collapsed": true
   },
   "outputs": [],
   "source": [
    "from ds1000de import DS1000DE"
   ]
  },
  {
   "cell_type": "code",
   "execution_count": 86,
   "metadata": {
    "collapsed": true
   },
   "outputs": [],
   "source": [
    "for action in actions:\n",
    "    keywords = action.split(\":\")\n",
    "    if len(keywords) == 1:\n",
    "        attr, fcn = action_factory(action)\n",
    "    elif len(keywords) == 2:\n",
    "        attr, fcn = action_factory(action)\n",
    "    else:\n",
    "        break\n",
    "    setattr(DS1000DE, attr, fcn)\n",
    "scope=DS1000DE(\"USB0\")"
   ]
  },
  {
   "cell_type": "code",
   "execution_count": 90,
   "metadata": {},
   "outputs": [
    {
     "data": {
      "text/plain": [
       "['', 'DISPlay', 'CLEar']"
      ]
     },
     "execution_count": 90,
     "metadata": {},
     "output_type": "execute_result"
    }
   ],
   "source": [
    "action.split(\":\")"
   ]
  },
  {
   "cell_type": "code",
   "execution_count": 91,
   "metadata": {
    "collapsed": true
   },
   "outputs": [],
   "source": [
    "cmd_dict = dict()"
   ]
  },
  {
   "cell_type": "code",
   "execution_count": 93,
   "metadata": {},
   "outputs": [
    {
     "name": "stdout",
     "output_type": "stream",
     "text": [
      "DISPlay\n"
     ]
    }
   ],
   "source": [
    "for kw in keywords[1:-1]:\n",
    "    print(kw)"
   ]
  },
  {
   "cell_type": "code",
   "execution_count": 88,
   "metadata": {},
   "outputs": [
    {
     "name": "stdout",
     "output_type": "stream",
     "text": [
      ":RUN\n"
     ]
    }
   ],
   "source": [
    "scope.run()"
   ]
  },
  {
   "cell_type": "code",
   "execution_count": 47,
   "metadata": {
    "collapsed": true
   },
   "outputs": [],
   "source": [
    "measures = list()\n",
    "for c in ro_cmds:\n",
    "    if \"measure\" in c:\n",
    "        measures.append(c)"
   ]
  },
  {
   "cell_type": "code",
   "execution_count": 56,
   "metadata": {},
   "outputs": [
    {
     "name": "stdout",
     "output_type": "stream",
     "text": [
      "[\n",
      "    'vpp',\n",
      "    'vmax',\n",
      "    'vmin',\n",
      "    'vamplitude',\n",
      "    'vtop',\n",
      "    'vbase',\n",
      "    'vaverage',\n",
      "    'vrms',\n",
      "    'overshoot',\n",
      "    'preshoot',\n",
      "    'frequency',\n",
      "    'risetime',\n",
      "    'falltime',\n",
      "    'period',\n",
      "    'pwidth',\n",
      "    'nwidth',\n",
      "    'pdutycycle',\n",
      "    'ndutycycle',\n",
      "    'pdelay',\n",
      "    'ndelay',\n",
      "]\n"
     ]
    }
   ],
   "source": [
    "print(\"[\")\n",
    "for measure in measures:\n",
    "    a = (measure.split(\"?\")[0])\n",
    "    b = a.split(\":\")[-1]\n",
    "    print(\"    '{}',\".format(b))\n",
    "print(\"]\")"
   ]
  },
  {
   "cell_type": "code",
   "execution_count": null,
   "metadata": {
    "collapsed": true
   },
   "outputs": [],
   "source": []
  }
 ],
 "metadata": {
  "kernelspec": {
   "display_name": "Python 3",
   "language": "python",
   "name": "python3"
  },
  "language_info": {
   "codemirror_mode": {
    "name": "ipython",
    "version": 3
   },
   "file_extension": ".py",
   "mimetype": "text/x-python",
   "name": "python",
   "nbconvert_exporter": "python",
   "pygments_lexer": "ipython3",
   "version": "3.6.1"
  }
 },
 "nbformat": 4,
 "nbformat_minor": 2
}
