{
 "cells": [
  {
   "cell_type": "code",
   "execution_count": 1,
   "metadata": {},
   "outputs": [],
   "source": [
    "with open(\"../Reference/CommandSystems.txt\", \"r\") as fid:\n",
    "     quick_ref = fid.read()"
   ]
  },
  {
   "cell_type": "code",
   "execution_count": 3,
   "metadata": {},
   "outputs": [],
   "source": [
    "import re\n",
    "\n",
    "cmd_re = re.compile(\"Command Format:\\n(.*?)\\nFunction Explanation:\", flags=re.MULTILINE | re.DOTALL)"
   ]
  },
  {
   "cell_type": "code",
   "execution_count": 5,
   "metadata": {},
   "outputs": [],
   "source": [
    "commands = cmd_re.findall(quick_ref)"
   ]
  },
  {
   "cell_type": "code",
   "execution_count": 21,
   "metadata": {
    "collapsed": true
   },
   "outputs": [],
   "source": [
    "actions = list()\n",
    "ro_cmds = list()\n",
    "rw_cmds = list()"
   ]
  },
  {
   "cell_type": "code",
   "execution_count": 22,
   "metadata": {},
   "outputs": [],
   "source": [
    "for command in commands:\n",
    "    cmd_opts = command.split(\"\\n\")\n",
    "    if len(cmd_opts) == 1:\n",
    "        if \"?\" in command:\n",
    "            ro_cmd.append(command)\n",
    "        else:\n",
    "            actions.append(command)\n",
    "    elif len(cmd_opts) == 2:\n",
    "        rw_cmds.append(command)\n",
    "    else:\n",
    "        print(command)"
   ]
  },
  {
   "cell_type": "code",
   "execution_count": 23,
   "metadata": {},
   "outputs": [
    {
     "data": {
      "text/plain": [
       "['*RST',\n",
       " ':RUN',\n",
       " ':STOP',\n",
       " ':AUTO',\n",
       " ':HARDcopy',\n",
       " ':DISPlay:CLEar',\n",
       " ':Trig%50',\n",
       " ':FORCetrig',\n",
       " ':STORage:FACTory:LOAD',\n",
       " ':MEASure:CLEar',\n",
       " ':LA:POSition:RESet',\n",
       " ':KEY:RUN',\n",
       " ':KEY:AUTO',\n",
       " ':KEY:CHANnel1',\n",
       " ':KEY:CHANnel2',\n",
       " ':KEY:MATH',\n",
       " ':KEY:REF',\n",
       " ':KEY:F1',\n",
       " ':KEY:F2',\n",
       " ':KEY:F3',\n",
       " ':KEY:F4',\n",
       " ':KEY:F5',\n",
       " ':KEY:MNUoff',\n",
       " ':KEY:MEASure',\n",
       " ':KEY:CURSor',\n",
       " ':KEY:ACQuire',\n",
       " ':KEY:DISPlay',\n",
       " ':KEY:STORage',\n",
       " ':KEY:UTILity',\n",
       " ':KEY:MNUTIME',\n",
       " ':KEY:MNUTRIG',\n",
       " ':KEY:Trig%50',\n",
       " ':KEY:FORCe',\n",
       " ':KEY:V_POS_INC',\n",
       " ':KEY:V_POS_DEC',\n",
       " ':KEY:V_SCALE_INC',\n",
       " ':KEY:V_SCALE_DEC',\n",
       " ':KEY:H_SCALE_INC',\n",
       " ':KEY:H_SCALE_DEC',\n",
       " ':KEY:TRIG_LVL_INC',\n",
       " ':KEY:TRIG_LVL_DEC',\n",
       " ':KEY:H_POS_INC',\n",
       " ':KEY:H_POS_DEC',\n",
       " ':KEY:PROMPT_V',\n",
       " ':KEY:PROMPT_H',\n",
       " ':KEY:FUNCtion',\n",
       " ':KEY:+FUNCtion',\n",
       " ':KEY:-FUNCtion',\n",
       " ':KEY:LA',\n",
       " ':KEY:PROMPT_V_POS',\n",
       " ':KEY:PROMPT_H_POS',\n",
       " ':KEY:PROMPT_TRIG_LVL',\n",
       " ':KEY:OFF',\n",
       " ':BEEP:ACTion']"
      ]
     },
     "execution_count": 23,
     "metadata": {},
     "output_type": "execute_result"
    }
   ],
   "source": [
    "actions"
   ]
  },
  {
   "cell_type": "code",
   "execution_count": 24,
   "metadata": {},
   "outputs": [
    {
     "data": {
      "text/plain": [
       "['*IDN?',\n",
       " ':ACQuire:SAMPlingrate? {CHANnel<n>|DIGITAL}',\n",
       " ':TRIGger:STATus?',\n",
       " ':CHANnel<n>:MEMoryDepth?',\n",
       " ':MEASure:VPP? [<source>]',\n",
       " ':MEASure:VMAX? [<source>]',\n",
       " ':MEASure:VMIN? [<source>]',\n",
       " ':MEASure:VAMPlitude? [<source>]',\n",
       " ':MEASure:VTOP? [<source>]',\n",
       " ':MEASure:VBASe? [<source>]',\n",
       " ':MEASure:VAVerage? [<source>]',\n",
       " ':MEASure:VRMS? [<source>]',\n",
       " ':MEASure:OVERshoot? [<source>]',\n",
       " ':MEASure:PREShoot? [<source>]',\n",
       " ':MEASure:FREQuency? [<source>]',\n",
       " ':MEASure:RISetime? [<source>]',\n",
       " ':MEASure:FALLtime? [<source>]',\n",
       " ':MEASure:PERiod? [<source>]',\n",
       " ':MEASure:PWIDth? [<source>]',\n",
       " ':MEASure:NWIDth? [<source>]',\n",
       " ':MEASure:PDUTycycle? [<source>]',\n",
       " ':MEASure:NDUTycycle? [<source>]',\n",
       " ':MEASure:PDELay? [<source>]',\n",
       " ':MEASure:NDELay? [<source>]',\n",
       " ':WAVeform:DATA? [<source>]',\n",
       " ':COUNter:ENABle {ON|OFF} :COUNter:ENABle?',\n",
       " '*IDN?',\n",
       " '*IDN?',\n",
       " ':ACQuire:SAMPlingrate? {CHANnel<n>|DIGITAL}',\n",
       " ':TRIGger:STATus?',\n",
       " ':CHANnel<n>:MEMoryDepth?',\n",
       " ':MEASure:VPP? [<source>]',\n",
       " ':MEASure:VMAX? [<source>]',\n",
       " ':MEASure:VMIN? [<source>]',\n",
       " ':MEASure:VAMPlitude? [<source>]',\n",
       " ':MEASure:VTOP? [<source>]',\n",
       " ':MEASure:VBASe? [<source>]',\n",
       " ':MEASure:VAVerage? [<source>]',\n",
       " ':MEASure:VRMS? [<source>]',\n",
       " ':MEASure:OVERshoot? [<source>]',\n",
       " ':MEASure:PREShoot? [<source>]',\n",
       " ':MEASure:FREQuency? [<source>]',\n",
       " ':MEASure:RISetime? [<source>]',\n",
       " ':MEASure:FALLtime? [<source>]',\n",
       " ':MEASure:PERiod? [<source>]',\n",
       " ':MEASure:PWIDth? [<source>]',\n",
       " ':MEASure:NWIDth? [<source>]',\n",
       " ':MEASure:PDUTycycle? [<source>]',\n",
       " ':MEASure:NDUTycycle? [<source>]',\n",
       " ':MEASure:PDELay? [<source>]',\n",
       " ':MEASure:NDELay? [<source>]',\n",
       " ':WAVeform:DATA? [<source>]',\n",
       " ':COUNter:ENABle {ON|OFF} :COUNter:ENABle?']"
      ]
     },
     "execution_count": 24,
     "metadata": {},
     "output_type": "execute_result"
    }
   ],
   "source": [
    "ro_cmd"
   ]
  },
  {
   "cell_type": "code",
   "execution_count": 25,
   "metadata": {},
   "outputs": [
    {
     "data": {
      "text/plain": [
       "[':ACQuire:TYPE <type>\\n:ACQuire:TYPE?',\n",
       " ':ACQuire:MODE <mode>\\n:ACQuire:MODE?',\n",
       " ':ACQuire:AVERages <count>\\n:ACQuire:AVERages?',\n",
       " ':ACQuire:MEMDepth <depth>\\n:ACQuire:MEMDepth?',\n",
       " ':DISPlay:TYPE <type>\\n:DISPlay:TYPE?',\n",
       " ':DISPlay:GRID <grid>\\n:DISPlay:GRID?',\n",
       " ':DISPlay:PERSist {ON|OFF}\\n:DISPlay:PERSist?',\n",
       " ':DISPlay:MNUDisplay <time>\\n:DISPlay:MNUDisplay?',\n",
       " ':DISPlay:MNUStatus {ON|OFF}\\n:DISPlay:MNUStaus?',\n",
       " ':DISPlay:BRIGhtness <ncount>\\n:DISPlay:BRIGhtness?',\n",
       " ':DISPlay:INTensity <count>\\n:DISPlay:INTensity?',\n",
       " ':TIMebase:MODE <mode>\\n:TIMebase:MODE?',\n",
       " ':TIMebase[:DELayed]:OFFSet <offset>\\n:TIMebase[:DELayed]:OFFSet?',\n",
       " ':TIMebase[:DELayed]:SCALe <scale_val>\\n:TIMebase[:DELayed]:SCALe?',\n",
       " ':TIMebase:FORMat <value>\\n:TIMebase:FORMat?',\n",
       " ':TRIGger:MODE <mode>\\n:TRIGger:MODE?',\n",
       " ':TRIGger<mode>:SOURce <src>\\n:TRIGger<mode>:SOURce?',\n",
       " ':TRIGger<mode>:LEVel <level>\\n:TRIGger<mode>:LEVel?',\n",
       " ':TRIGger<mode>:SWEep {AUTO|NORMal|SINGle}\\n:TRIGger<mode>:SWEep?',\n",
       " ':TRIGger<mode>:COUPling {DC|AC|HF|LF}\\n:TRIGger<mode>:COUPling?',\n",
       " ':TRIGger:HOLDoff <count>\\n:TRIGger:HOLDoff?',\n",
       " ':TRIGger:EDGE:SLOPe {POSitive|NEGative}\\n:TRIGger:EDGE:SLOPe?',\n",
       " ':TRIGger:EDGE:SENSitivity <count>\\n:TRIGger:EDGE:SENSitivity?',\n",
       " ':TRIGger:PULSe:MODE <mode>\\n:TRIGger:PULSe:MODE?',\n",
       " ':TRIGger:PULSe:SENSitivity <count>\\n:TRIGger:PULSe:SENSitivity?',\n",
       " ':TRIGger:PULSe:WIDTh <wid>\\n:TRIGger:PULSe:WIDTh?',\n",
       " ':TRIGger:VIDEO:MODE <mode>\\n:TRIGger:VIDEO:MODE?',\n",
       " ':TRIGger:VIDEO:POLarity {POSitive|NEGative}\\n:TRIGger:VIDEO:POLarity?',\n",
       " ':TRIGger:VIDEO:STANdard {NTSC|PALSecam}\\n:TRIGger:VIDEO:STANdard?',\n",
       " ':TRIGger:VIDEO:LINE <value>\\n:TRIGger:VIDEO:LINE?',\n",
       " ':TRIGger:VIDEO:SENSitivity <count>\\n:TRIGger:VIDEO:SENSitivity?',\n",
       " ':TRIGger:SLOPe:TIME <count>\\n:TRIGger:SLOPe:TIME?',\n",
       " ':TRIGger:SLOPe:SENSitivity <count>\\n:TRIGger:SLOPe:SENSitivity?',\n",
       " ':TRIGger:SLOPe:MODE <mode>\\n:TRIGger:SLOPe:MODE?',\n",
       " ':TRIGger:SLOPe:WINDow <count>\\n:TRIGger:SLOPe:WINDow?',\n",
       " ':TRIGger:SLOPe:LEVelA <value>\\n:TRIGger:SLOPe:LEVelA?',\n",
       " ':TRIGger:SLOPe:LEVelB <value>\\n:TRIGger:SLOPe:LEVelB?',\n",
       " ':TRIGger:PATTern:PATTern <value>,<mask>, [<edge source>,<edge>]\\n:TRIGger:PATTern:PATTern?',\n",
       " ':TRIGger:DURation:PATTern <value>,<mask>\\n:TRIGger:DURation:PATTern?',\n",
       " ':TRIGger:DURation:TIME <time>\\n:TRIGger:DURation:TIME?',\n",
       " ':TRIGger:DURation:QUALifier <qual>\\n:TRIGger:DURation:QUALifier?',\n",
       " ':TRIGger:ALTernation:SOURce <src>\\n:TRIGger:ALTernation:SOURce?',\n",
       " ':TRIGger:ALTernation:TYPE <value>\\n:TRIGger:ALTernation:TYPE?',\n",
       " ':TRIGger:ALTernation:TimeSCALe <value>\\n:TRIGger:ALTernation:TimeSCALe?',\n",
       " ':TRIGger:ALTernation:TimeOFFSet <value>\\n:TRIGger:ALTernation:TimeOFFSet?',\n",
       " ':TRIGger:ALTernation<mode>:LEVel <value>\\n:TRIGger:ALTernation<mode>:LEVel?',\n",
       " ':TRIGger:ALTernation:EDGE:SLOPe <value>\\n:TRIGger:ALTernation:EDGE:SLOPe?',\n",
       " ':TRIGger:ALTernation<mode>:MODE <value>\\n:TRIGger:ALTernation<mode>:MODE?',\n",
       " ':TRIGger:ALTernation<mode>:TIME <value>\\n:TRIGger:ALTernation<mode>:TIME?',\n",
       " ':TRIGger:ALTernation:VIDEO:POLarity {POSitive|NEGative}\\n:TRIGger:ALTernation:VIDEO:POLarity?',\n",
       " ':TRIGger:ALTernation:VIDEO:STANdard {NTSC|PALSecam}\\n:TRIGger:ALTernation:VIDEO:STANdard?',\n",
       " ':TRIGger:ALTernation:VIDEO:LINE <value>\\n:TRIGger:ALTernation:VIDEO:LINE?',\n",
       " ':TRIGger:ALTernation:SLOPe:WINDow <count>\\n:TRIGger:ALTernation:SLOPe:WINDow?',\n",
       " ':TRIGger:ALTernation:SLOPe:LEVelA <value>\\n:TRIGger:ALTernation:SLOPe:LEVelA?',\n",
       " ':TRIGger:ALTernation:SLOPe:LEVelB <value>\\n:TRIGger:ALTernation:SLOPe:LEVelB?',\n",
       " ':TRIGger:ALTernation<mode>:COUPling {DC|AC|HF|LF}\\n:TRIGger:ALTernation<mode>:COUPling?',\n",
       " ':TRIGger:ALTernation<mode>:HOLDoff <count>\\n:TRIGger:ALTernation<mode>:HOLDoff ?',\n",
       " ':TRIGger:ALTernation<mode>:SENSitivity <count>\\n:TRIGger:ALTernation<mode>:SLOPe:SENSitivity?',\n",
       " ':MATH:DISPlay {ON|OFF}\\n:MATH:DISPlay?',\n",
       " ':MATH:OPERate <operate>\\n:MATH:OPERate?',\n",
       " ':FFT:DISPlay {ON|OFF}\\n:FFT:DISPlay?',\n",
       " ':CHANnel<n>:BWLimit {ON|OFF}\\n:CHANnel<n>:BWLimit?',\n",
       " ':CHANnel<n>:COUPling {DC|AC|GND}\\n:CHANnel<n>:COUPling?',\n",
       " ':CHANnel<n>:DISPlay {ON|OFF}\\n:CHANnel<n>:DISPlay?',\n",
       " ':CHANnel<n>:INVert {ON|OFF}\\n:CHANnel<n>:INVert?',\n",
       " ':CHANnel<n>:OFFSet <offset>\\n:CHANnel<n>:OFFSet?',\n",
       " ':CHANnel<n>:PROBe <attn>\\n:CHANnel<n>:PROBe?',\n",
       " ':CHANnel<n>:SCALe <range>\\n:CHANnel<n>:SCALe?',\n",
       " ':CHANnel<n>:FILTer {ON|OFF}\\n:CHANnel<n>:FILTer?',\n",
       " ':CHANnel<n>:VERNier {ON|OFF}\\n:CHANnel<n>:VERNier?',\n",
       " ':MEASure:TOTal {ON|OFF}\\n:MEASure:TOTal?',\n",
       " ':MEASure:SOURce <source>\\n:MEASure:SOURce?',\n",
       " ':WAVeform:POINts:MODE <points_mode>\\n:WAVeform:POINts:MODE?',\n",
       " ':LA:DISPlay {ON|OFF}\\n:LA:DISPlay?',\n",
       " ':DIGital<n>:TURN {ON|OFF}\\n:DIGital<n>:TURN?',\n",
       " ':DIGital<n>:POSition <position>\\n:DIGital<n>:POSition?',\n",
       " ':LA:THReshold<value>[suffix]\\n:LA:THReshold?',\n",
       " ':LA:GROUp<n> {ON|OFF}\\n:LA:GROUp<n>?',\n",
       " ':LA:GROUp<n>:SIZe <size>\\n:LA:GROUp<n>:SIZe?',\n",
       " ':KEY:LOCK {ENABle|DISable}\\n:KEY:LOCK?',\n",
       " ':INFO:LANGuage <lang>\\n:INFO:LANGuage?',\n",
       " ':BEEP:ENABle {ON|OFF}\\n:BEEP:ENABle?']"
      ]
     },
     "execution_count": 25,
     "metadata": {},
     "output_type": "execute_result"
    }
   ],
   "source": [
    "rw_cmds"
   ]
  },
  {
   "cell_type": "code",
   "execution_count": 26,
   "metadata": {
    "collapsed": true
   },
   "outputs": [],
   "source": [
    "from ds1000de import DS1000DE\n",
    "scope = DS1000DE(\"USB0\")\n",
    "i = scope.inst"
   ]
  },
  {
   "cell_type": "code",
   "execution_count": 27,
   "metadata": {},
   "outputs": [
    {
     "data": {
      "text/plain": [
       "'OFF'"
      ]
     },
     "execution_count": 27,
     "metadata": {},
     "output_type": "execute_result"
    }
   ],
   "source": [
    "i.query(\":BEEP:ENABLE?\")"
   ]
  },
  {
   "cell_type": "code",
   "execution_count": 30,
   "metadata": {},
   "outputs": [
    {
     "data": {
      "text/plain": [
       "(14, <StatusCode.success: 0>)"
      ]
     },
     "execution_count": 30,
     "metadata": {},
     "output_type": "execute_result"
    }
   ],
   "source": [
    "i.write(\":BEEP:ACTION\")"
   ]
  },
  {
   "cell_type": "code",
   "execution_count": 31,
   "metadata": {
    "collapsed": true
   },
   "outputs": [],
   "source": [
    "class BaseCmd(object):\n",
    "    def __init__(self):\n",
    "        pass\n",
    "    \n",
    "    "
   ]
  },
  {
   "cell_type": "code",
   "execution_count": 32,
   "metadata": {
    "collapsed": true
   },
   "outputs": [],
   "source": [
    "for action in actions:\n",
    "    break"
   ]
  },
  {
   "cell_type": "code",
   "execution_count": 33,
   "metadata": {},
   "outputs": [
    {
     "data": {
      "text/plain": [
       "'*RST'"
      ]
     },
     "execution_count": 33,
     "metadata": {},
     "output_type": "execute_result"
    }
   ],
   "source": [
    "action"
   ]
  },
  {
   "cell_type": "code",
   "execution_count": 35,
   "metadata": {},
   "outputs": [
    {
     "data": {
      "text/plain": [
       "'rst'"
      ]
     },
     "execution_count": 35,
     "metadata": {},
     "output_type": "execute_result"
    }
   ],
   "source": [
    "action.strip(\"*\").lower()"
   ]
  },
  {
   "cell_type": "code",
   "execution_count": 36,
   "metadata": {
    "collapsed": true
   },
   "outputs": [],
   "source": [
    "action = actions[1]"
   ]
  },
  {
   "cell_type": "code",
   "execution_count": 37,
   "metadata": {},
   "outputs": [
    {
     "data": {
      "text/plain": [
       "':RUN'"
      ]
     },
     "execution_count": 37,
     "metadata": {},
     "output_type": "execute_result"
    }
   ],
   "source": [
    "action"
   ]
  },
  {
   "cell_type": "code",
   "execution_count": 38,
   "metadata": {},
   "outputs": [
    {
     "data": {
      "text/plain": [
       "['', 'RUN']"
      ]
     },
     "execution_count": 38,
     "metadata": {},
     "output_type": "execute_result"
    }
   ],
   "source": [
    "action.split(\":\")"
   ]
  },
  {
   "cell_type": "code",
   "execution_count": null,
   "metadata": {
    "collapsed": true
   },
   "outputs": [],
   "source": [
    "def action_factory(action):\n",
    "    def ac"
   ]
  },
  {
   "cell_type": "code",
   "execution_count": 45,
   "metadata": {},
   "outputs": [
    {
     "name": "stdout",
     "output_type": "stream",
     "text": [
      "*RST\n",
      ":RUN\n",
      ":STOP\n",
      ":AUTO\n",
      ":HARDcopy\n",
      ":DISPlay:CLEar\n",
      ":Trig%50\n",
      ":FORCetrig\n",
      ":STORage:FACTory:LOAD\n",
      ":MEASure:CLEar\n",
      ":LA:POSition:RESet\n",
      ":KEY:RUN\n",
      ":KEY:AUTO\n",
      ":KEY:CHANnel1\n",
      ":KEY:CHANnel2\n",
      ":KEY:MATH\n",
      ":KEY:REF\n",
      ":KEY:F1\n",
      ":KEY:F2\n",
      ":KEY:F3\n",
      ":KEY:F4\n",
      ":KEY:F5\n",
      ":KEY:MNUoff\n",
      ":KEY:MEASure\n",
      ":KEY:CURSor\n",
      ":KEY:ACQuire\n",
      ":KEY:DISPlay\n",
      ":KEY:STORage\n",
      ":KEY:UTILity\n",
      ":KEY:MNUTIME\n",
      ":KEY:MNUTRIG\n",
      ":KEY:Trig%50\n",
      ":KEY:FORCe\n",
      ":KEY:V_POS_INC\n",
      ":KEY:V_POS_DEC\n",
      ":KEY:V_SCALE_INC\n",
      ":KEY:V_SCALE_DEC\n",
      ":KEY:H_SCALE_INC\n",
      ":KEY:H_SCALE_DEC\n",
      ":KEY:TRIG_LVL_INC\n",
      ":KEY:TRIG_LVL_DEC\n",
      ":KEY:H_POS_INC\n",
      ":KEY:H_POS_DEC\n",
      ":KEY:PROMPT_V\n",
      ":KEY:PROMPT_H\n",
      ":KEY:FUNCtion\n",
      ":KEY:+FUNCtion\n",
      ":KEY:-FUNCtion\n",
      ":KEY:LA\n",
      ":KEY:PROMPT_V_POS\n",
      ":KEY:PROMPT_H_POS\n",
      ":KEY:PROMPT_TRIG_LVL\n",
      ":KEY:OFF\n",
      ":BEEP:ACTion\n"
     ]
    }
   ],
   "source": [
    "for action in actions:\n",
    "    print(action)"
   ]
  },
  {
   "cell_type": "code",
   "execution_count": null,
   "metadata": {
    "collapsed": true
   },
   "outputs": [],
   "source": [
    "class"
   ]
  },
  {
   "cell_type": "code",
   "execution_count": 46,
   "metadata": {
    "collapsed": true
   },
   "outputs": [],
   "source": [
    "from ds1000de import DS1000DE"
   ]
  },
  {
   "cell_type": "code",
   "execution_count": 84,
   "metadata": {
    "collapsed": true
   },
   "outputs": [],
   "source": [
    "def action_factory(cmd):\n",
    "    def action(self, *args):\n",
    "        print(cmd)\n",
    "        self.inst.write(cmd.upper())\n",
    "    keywords = cmd.split(\":\")\n",
    "    if len(keywords) == 1:\n",
    "        attr = keywords[0].lower().strip(\"*\").replace(\"%\", \"\")\n",
    "    elif len(keywords) == 2:\n",
    "        attr = keywords[1].lower().strip(\"*\").replace(\"%\", \"\")\n",
    "    return attr, action"
   ]
  },
  {
   "cell_type": "code",
   "execution_count": 86,
   "metadata": {},
   "outputs": [],
   "source": [
    "for action in actions:\n",
    "    keywords = action.split(\":\")\n",
    "    if len(keywords) == 1:\n",
    "        attr, fcn = action_factory(action)\n",
    "    elif len(keywords) == 2:\n",
    "        attr, fcn = action_factory(action)\n",
    "    else:\n",
    "        break\n",
    "    setattr(DS1000DE, attr, fcn)\n",
    "scope=DS1000DE(\"USB0\")"
   ]
  },
  {
   "cell_type": "code",
   "execution_count": 90,
   "metadata": {},
   "outputs": [
    {
     "data": {
      "text/plain": [
       "['', 'DISPlay', 'CLEar']"
      ]
     },
     "execution_count": 90,
     "metadata": {},
     "output_type": "execute_result"
    }
   ],
   "source": [
    "action.split(\":\")"
   ]
  },
  {
   "cell_type": "code",
   "execution_count": 91,
   "metadata": {
    "collapsed": true
   },
   "outputs": [],
   "source": [
    "cmd_dict = dict()"
   ]
  },
  {
   "cell_type": "code",
   "execution_count": 93,
   "metadata": {},
   "outputs": [
    {
     "name": "stdout",
     "output_type": "stream",
     "text": [
      "DISPlay\n"
     ]
    }
   ],
   "source": [
    "for kw in keywords[1:-1]:\n",
    "    print(kw)"
   ]
  },
  {
   "cell_type": "code",
   "execution_count": 88,
   "metadata": {},
   "outputs": [
    {
     "name": "stdout",
     "output_type": "stream",
     "text": [
      ":RUN\n"
     ]
    }
   ],
   "source": [
    "scope.run()"
   ]
  },
  {
   "cell_type": "code",
   "execution_count": 87,
   "metadata": {},
   "outputs": [
    {
     "name": "stdout",
     "output_type": "stream",
     "text": [
      ":HARDcopy\n"
     ]
    }
   ],
   "source": [
    "scope.hardcopy()"
   ]
  }
 ],
 "metadata": {
  "kernelspec": {
   "display_name": "Python 3",
   "language": "python",
   "name": "python3"
  },
  "language_info": {
   "codemirror_mode": {
    "name": "ipython",
    "version": 3
   },
   "file_extension": ".py",
   "mimetype": "text/x-python",
   "name": "python",
   "nbconvert_exporter": "python",
   "pygments_lexer": "ipython3",
   "version": "3.5.3"
  }
 },
 "nbformat": 4,
 "nbformat_minor": 2
}
