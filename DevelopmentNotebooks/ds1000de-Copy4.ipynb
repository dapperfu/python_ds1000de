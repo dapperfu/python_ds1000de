{
 "cells": [
  {
   "cell_type": "code",
   "execution_count": 1,
   "metadata": {
    "collapsed": true
   },
   "outputs": [],
   "source": [
    "with open(\"../Reference/CommandQuickReference.txt\", \"r\") as fid:\n",
    "     quick_ref = fid.readlines()\n",
    "commands_raw = list()\n",
    "for line in quick_ref:\n",
    "    if line.startswith(\"*\") | line.startswith(\":\"):\n",
    "        commands_raw.append(line) \n",
    "commands = list()\n",
    "for command_raw in commands_raw:\n",
    "    split = command_raw.split(\" \")\n",
    "    commands.append(split[0])"
   ]
  },
  {
   "cell_type": "code",
   "execution_count": 2,
   "metadata": {
    "collapsed": true
   },
   "outputs": [],
   "source": [
    "from ds1000de import DS1000DE"
   ]
  },
  {
   "cell_type": "code",
   "execution_count": 3,
   "metadata": {
    "collapsed": true
   },
   "outputs": [],
   "source": [
    "scope = DS1000DE(\"USB0\")"
   ]
  },
  {
   "cell_type": "code",
   "execution_count": 16,
   "metadata": {
    "collapsed": true
   },
   "outputs": [],
   "source": [
    "ro_cmd = list()\n",
    "rw_cmd = list()\n",
    "\n",
    "for command in commands:\n",
    "    if command.endswith(\"?\"):\n",
    "        # Read Only Commands\n",
    "        ro_cmd.append(command)\n",
    "    else:\n",
    "        # Read/Write Commands\n",
    "        rw_cmd.append(command)"
   ]
  },
  {
   "cell_type": "code",
   "execution_count": 17,
   "metadata": {},
   "outputs": [
    {
     "data": {
      "text/plain": [
       "['*IDN?',\n",
       " ':ACQuire:SAMPlingrate?',\n",
       " ':CHANnel<n>:MEMoryDepth?',\n",
       " ':MEASure:VPP?',\n",
       " ':MEASure:VMAX?',\n",
       " ':MEASure:VMIN?',\n",
       " ':MEASure:VAMPlitude?',\n",
       " ':MEASure:VTOP?',\n",
       " ':MEASure:VBASe?',\n",
       " ':MEASure:VAVerage?',\n",
       " ':MEASure:VRMS?',\n",
       " ':MEASure:OVERshoot?',\n",
       " ':MEASure:PREShoot?',\n",
       " ':MEASure:FREQuency?',\n",
       " ':MEASure:RISetime?',\n",
       " ':MEASure:FALLtime?',\n",
       " ':MEASure:PERiod?',\n",
       " ':MEASure:PWIDth?',\n",
       " ':MEASure:NWIDth?',\n",
       " ':MEASure:PDUTycycle?',\n",
       " ':MEASure:NDUTycycle?',\n",
       " ':MEASure:PDELay?',\n",
       " ':MEASure:NDELay?',\n",
       " ':TRIGger:STATus?',\n",
       " ':WAVeform:DATA?']"
      ]
     },
     "execution_count": 17,
     "metadata": {},
     "output_type": "execute_result"
    }
   ],
   "source": [
    "scope.inst.query{}"
   ]
  },
  {
   "cell_type": "code",
   "execution_count": 10,
   "metadata": {},
   "outputs": [
    {
     "data": {
      "text/plain": [
       "(6, <StatusCode.success: 0>)"
      ]
     },
     "execution_count": 10,
     "metadata": {},
     "output_type": "execute_result"
    }
   ],
   "source": [
    "scope.inst.write(command)"
   ]
  },
  {
   "cell_type": "code",
   "execution_count": 18,
   "metadata": {
    "collapsed": true
   },
   "outputs": [],
   "source": [
    "i = scope.inst"
   ]
  },
  {
   "cell_type": "code",
   "execution_count": null,
   "metadata": {
    "collapsed": true
   },
   "outputs": [],
   "source": [
    "i.query(\"\")"
   ]
  }
 ],
 "metadata": {
  "kernelspec": {
   "display_name": "Python 3",
   "language": "python",
   "name": "python3"
  },
  "language_info": {
   "codemirror_mode": {
    "name": "ipython",
    "version": 3
   },
   "file_extension": ".py",
   "mimetype": "text/x-python",
   "name": "python",
   "nbconvert_exporter": "python",
   "pygments_lexer": "ipython3",
   "version": "3.5.3"
  }
 },
 "nbformat": 4,
 "nbformat_minor": 2
}
