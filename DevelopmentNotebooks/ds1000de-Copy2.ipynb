{
 "cells": [
  {
   "cell_type": "markdown",
   "metadata": {},
   "source": [
    "Python.\n",
    "Automate the boring things....\n",
    "\n",
    "https://automatetheboringstuff.com/chapter13/"
   ]
  },
  {
   "cell_type": "code",
   "execution_count": 1,
   "metadata": {
    "collapsed": true
   },
   "outputs": [],
   "source": [
    "import PyPDF2\n",
    "pdfFileObj = open(\"../DS1000DE_ProgrammingGuide_EN.pdf\", 'rb')\n",
    "pdfReader = PyPDF2.PdfFileReader(pdfFileObj)"
   ]
  },
  {
   "cell_type": "code",
   "execution_count": 12,
   "metadata": {},
   "outputs": [
    {
     "data": {
      "text/plain": [
       "135"
      ]
     },
     "execution_count": 12,
     "metadata": {},
     "output_type": "execute_result"
    }
   ],
   "source": [
    "pdfReader.numPages"
   ]
  },
  {
   "cell_type": "code",
   "execution_count": 16,
   "metadata": {
    "collapsed": true
   },
   "outputs": [],
   "source": [
    "page = 70 # Measure Commands. All on one page. ALl read only. Easy starting place\n",
    "pageObj = pdfReader.getPage(page)\n",
    "text = pageObj.extractText()"
   ]
  },
  {
   "cell_type": "code",
   "execution_count": 17,
   "metadata": {},
   "outputs": [
    {
     "name": "stdout",
     "output_type": "stream",
     "text": [
      "Command Systems\n",
      "                                                              \n",
      "R\n",
      "IGOL\n",
      " \n",
      "                                                      \n",
      "                                                                       \n",
      " \n",
      "Programming Guide for\n",
      " \n",
      "DS1000\n",
      "E, DS1000D \n",
      "Series                                      \n",
      " \n",
      " \n",
      "2\n",
      "-\n",
      "59\n",
      " \n",
      "MEASure\n",
      " \n",
      "Commands\n",
      " \n",
      " \n",
      " \n",
      " \n",
      "MEASure\n",
      " \n",
      "Commands are used for the \n",
      "basic \n",
      "measurement only available for analog \n",
      "channel. Generally, the query returns the results \n",
      "in sc\n",
      "ientific notation\n",
      ".\n",
      " \n",
      " \n",
      " \n",
      "MEASure\n",
      " \n",
      "Commands include:\n",
      " \n",
      "\n",
      " \n",
      ":MEASure:CLEar\n",
      " \n",
      "\n",
      " \n",
      ":MEASure:VPP?\n",
      " \n",
      "\n",
      " \n",
      ":MEASure:VMAX?\n",
      " \n",
      "\n",
      " \n",
      ":MEASure:VMIN?\n",
      " \n",
      "\n",
      " \n",
      ":MEASure:VAMPlitude?\n",
      " \n",
      "\n",
      " \n",
      ":MEASure:VTOP?\n",
      " \n",
      "\n",
      " \n",
      ":MEASure:VBASe?\n",
      " \n",
      "\n",
      " \n",
      ":MEASure:VAVerage?\n",
      " \n",
      "\n",
      " \n",
      ":MEASure:VRMS?\n",
      " \n",
      "\n",
      " \n",
      ":\n",
      "MEASure:OVERshoot?\n",
      " \n",
      "\n",
      " \n",
      ":MEASure:PREShoot?\n",
      " \n",
      "\n",
      " \n",
      ":MEASure:FREQuency?\n",
      " \n",
      "\n",
      " \n",
      ":MEASure:RISetime?\n",
      " \n",
      "\n",
      " \n",
      ":MEASure:FALLtime?\n",
      " \n",
      "\n",
      " \n",
      ":MEASure:PERiod?\n",
      " \n",
      "\n",
      " \n",
      ":MEASure:PWIDth?\n",
      " \n",
      "\n",
      " \n",
      ":MEASure:NWIDth?\n",
      " \n",
      "\n",
      " \n",
      ":MEASure:PDUTycycle?\n",
      " \n",
      "\n",
      " \n",
      ":MEASure:NDUTycycle?\n",
      " \n",
      "\n",
      " \n",
      ":MEASure:PDELay?\n",
      " \n",
      "\n",
      " \n",
      ":MEASure:NDELay?\n",
      " \n",
      "\n",
      " \n",
      ":MEASure:TOTal\n",
      " \n",
      "\n",
      " \n",
      ":MEASure:SOURce\n",
      " \n",
      " \n",
      " \n",
      "The detailed information of each command\n",
      " \n",
      "are\n",
      " \n",
      "given as follows:\n",
      " \n",
      " \n",
      " \n",
      " \n",
      " \n",
      " \n",
      "\n"
     ]
    }
   ],
   "source": [
    "print(text)"
   ]
  },
  {
   "cell_type": "markdown",
   "metadata": {},
   "source": [
    "Invaluable Python Regex resource:\n",
    "\n",
    "https://pythex.org/"
   ]
  },
  {
   "cell_type": "code",
   "execution_count": 40,
   "metadata": {
    "collapsed": true
   },
   "outputs": [],
   "source": [
    "import re"
   ]
  },
  {
   "cell_type": "code",
   "execution_count": 44,
   "metadata": {},
   "outputs": [],
   "source": [
    "cmd_regex = re.compile(\":([\\w]+):([\\w]+)\\??\")"
   ]
  },
  {
   "cell_type": "code",
   "execution_count": 45,
   "metadata": {},
   "outputs": [
    {
     "data": {
      "text/plain": [
       "[('MEASure', 'CLEar'),\n",
       " ('MEASure', 'CLEar'),\n",
       " ('MEASure', 'VPP'),\n",
       " ('MEASure', 'VPP'),\n",
       " ('MEASure', 'VMAX'),\n",
       " ('MEASure', 'VMAX'),\n",
       " ('MEASure', 'VMIN'),\n",
       " ('MEASure', 'VMIN')]"
      ]
     },
     "execution_count": 45,
     "metadata": {},
     "output_type": "execute_result"
    }
   ],
   "source": [
    "cmd_regex.findall(text)"
   ]
  },
  {
   "cell_type": "code",
   "execution_count": null,
   "metadata": {
    "collapsed": true
   },
   "outputs": [],
   "source": []
  }
 ],
 "metadata": {
  "kernelspec": {
   "display_name": "Python 3",
   "language": "python",
   "name": "python3"
  },
  "language_info": {
   "codemirror_mode": {
    "name": "ipython",
    "version": 3
   },
   "file_extension": ".py",
   "mimetype": "text/x-python",
   "name": "python",
   "nbconvert_exporter": "python",
   "pygments_lexer": "ipython3",
   "version": "3.5.3"
  }
 },
 "nbformat": 4,
 "nbformat_minor": 2
}
